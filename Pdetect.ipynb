{
  "nbformat": 4,
  "nbformat_minor": 0,
  "metadata": {
    "colab": {
      "name": "Pdetect.ipynb",
      "provenance": [],
      "collapsed_sections": [],
      "include_colab_link": true
    },
    "kernelspec": {
      "name": "python3",
      "display_name": "Python 3"
    }
  },
  "cells": [
    {
      "cell_type": "markdown",
      "metadata": {
        "id": "view-in-github",
        "colab_type": "text"
      },
      "source": [
        "<a href=\"https://colab.research.google.com/github/olaff13/pneumoniadetect/blob/master/Pdetect.ipynb\" target=\"_parent\"><img src=\"https://colab.research.google.com/assets/colab-badge.svg\" alt=\"Open In Colab\"/></a>"
      ]
    },
    {
      "cell_type": "markdown",
      "metadata": {
        "id": "wLQpeVHtpYRg",
        "colab_type": "text"
      },
      "source": [
        "imports : \n",
        "\n"
      ]
    },
    {
      "cell_type": "code",
      "metadata": {
        "colab_type": "code",
        "id": "1xJZ5glPPCRz",
        "colab": {}
      },
      "source": [
        "import os\n",
        "\n",
        "from tensorflow.keras import layers\n",
        "from tensorflow.keras import Model\n",
        "from tensorflow.keras.optimizers import RMSprop\n",
        "from tensorflow.keras.preprocessing.image import ImageDataGenerator\n",
        "from tensorflow.keras.optimizers import SGD"
      ],
      "execution_count": 0,
      "outputs": []
    },
    {
      "cell_type": "markdown",
      "metadata": {
        "id": "vx9bAGe6pfsI",
        "colab_type": "text"
      },
      "source": [
        "weights & model :"
      ]
    },
    {
      "cell_type": "code",
      "metadata": {
        "colab_type": "code",
        "id": "KMrbllgAFipZ",
        "outputId": "cb41bb62-f9f5-4de4-c1d0-3a04a0c57691",
        "colab": {
          "base_uri": "https://localhost:8080/",
          "height": 240
        }
      },
      "source": [
        "!wget --no-check-certificate \\\n",
        "    https://storage.googleapis.com/mledu-datasets/inception_v3_weights_tf_dim_ordering_tf_kernels_notop.h5 \\\n",
        "    -O /tmp/inception_v3_weights_tf_dim_ordering_tf_kernels_notop.h5"
      ],
      "execution_count": 12,
      "outputs": [
        {
          "output_type": "stream",
          "text": [
            "--2019-09-19 18:02:50--  https://storage.googleapis.com/mledu-datasets/inception_v3_weights_tf_dim_ordering_tf_kernels_notop.h5\n",
            "Resolving storage.googleapis.com (storage.googleapis.com)... 74.125.20.128, 2607:f8b0:400e:c06::80\n",
            "Connecting to storage.googleapis.com (storage.googleapis.com)|74.125.20.128|:443... connected.\n",
            "HTTP request sent, awaiting response... 200 OK\n",
            "Length: 87910968 (84M) [application/x-hdf]\n",
            "Saving to: ‘/tmp/inception_v3_weights_tf_dim_ordering_tf_kernels_notop.h5’\n",
            "\n",
            "/tmp/inception_v3_w 100%[===================>]  83.84M   133MB/s    in 0.6s    \n",
            "\n",
            "2019-09-19 18:02:51 (133 MB/s) - ‘/tmp/inception_v3_weights_tf_dim_ordering_tf_kernels_notop.h5’ saved [87910968/87910968]\n",
            "\n"
          ],
          "name": "stdout"
        }
      ]
    },
    {
      "cell_type": "code",
      "metadata": {
        "colab_type": "code",
        "id": "UnRiGBfOF8rq",
        "colab": {}
      },
      "source": [
        "from tensorflow.keras.applications.inception_v3 import InceptionV3\n",
        "\n",
        "local_weights_file = '/tmp/inception_v3_weights_tf_dim_ordering_tf_kernels_notop.h5'\n",
        "pre_trained_model = InceptionV3(\n",
        "    input_shape=(150, 150, 3), include_top=False, weights=None)\n",
        "pre_trained_model.load_weights(local_weights_file)"
      ],
      "execution_count": 0,
      "outputs": []
    },
    {
      "cell_type": "code",
      "metadata": {
        "colab_type": "code",
        "id": "a38rB3lyedcB",
        "colab": {}
      },
      "source": [
        "for layer in pre_trained_model.layers:\n",
        "  layer.trainable = False"
      ],
      "execution_count": 0,
      "outputs": []
    },
    {
      "cell_type": "code",
      "metadata": {
        "colab_type": "code",
        "id": "Cj4rXshqbQlS",
        "outputId": "08bdbed2-a4f2-4223-90ce-c10fc862efb6",
        "colab": {
          "base_uri": "https://localhost:8080/",
          "height": 35
        }
      },
      "source": [
        "last_layer = pre_trained_model.get_layer('mixed7')\n",
        "print('last layer output shape:', last_layer.output_shape)\n",
        "last_output = last_layer.output"
      ],
      "execution_count": 29,
      "outputs": [
        {
          "output_type": "stream",
          "text": [
            "last layer output shape: (None, 7, 7, 768)\n"
          ],
          "name": "stdout"
        }
      ]
    },
    {
      "cell_type": "code",
      "metadata": {
        "id": "M7sI_EPvqVbW",
        "colab_type": "code",
        "colab": {}
      },
      "source": [
        "# Flatten the output layer to 1 dimension\n",
        "x = layers.Flatten()(last_output)\n",
        "# Add a fully connected layer with 1,024 hidden units and ReLU activation\n",
        "x = layers.Dense(1024, activation='relu')(x)\n",
        "# Add a dropout rate of 0.2\n",
        "x = layers.Dropout(0.2)(x)\n",
        "# Add a final sigmoid layer for classification\n",
        "x = layers.Dense(1, activation='sigmoid')(x)\n",
        "\n",
        "\n",
        "unfreeze = False\n",
        "# Unfreeze all models after \"mixed6\"\n",
        "for layer in pre_trained_model.layers:\n",
        "  if unfreeze:\n",
        "    layer.trainable = True\n",
        "  if layer.name == 'mixed6':\n",
        "    unfreeze = True\n",
        "\n",
        "# Configure and compile the model\n",
        "model = Model(pre_trained_model.input, x)\n",
        "model.compile(loss='binary_crossentropy',\n",
        "              optimizer=SGD(\n",
        "                  lr=0.00001, \n",
        "                  momentum=0.9),\n",
        "              metrics=['acc'])"
      ],
      "execution_count": 0,
      "outputs": []
    },
    {
      "cell_type": "markdown",
      "metadata": {
        "id": "68kyWB4SrhFZ",
        "colab_type": "text"
      },
      "source": [
        "Data:"
      ]
    },
    {
      "cell_type": "code",
      "metadata": {
        "id": "JN7NwU1srmrQ",
        "colab_type": "code",
        "colab": {
          "base_uri": "https://localhost:8080/",
          "height": 72
        },
        "outputId": "36b0ae4d-2a39-4740-ea25-12aa8b960a65"
      },
      "source": [
        "os.environ[\"KAGGLE_USERNAME\"] = \"olaff13\"\n",
        "os.environ[\"KAGGLE_KEY\"] = \"e66d1df205c966dd47eb2f88d047547b\"\n",
        "!kaggle datasets download -d paultimothymooney/chest-xray-pneumonia"
      ],
      "execution_count": 17,
      "outputs": [
        {
          "output_type": "stream",
          "text": [
            "Downloading chest-xray-pneumonia.zip to /content\n",
            " 99% 1.14G/1.15G [00:14<00:00, 109MB/s]\n",
            "100% 1.15G/1.15G [00:14<00:00, 86.0MB/s]\n"
          ],
          "name": "stdout"
        }
      ]
    },
    {
      "cell_type": "code",
      "metadata": {
        "id": "KYJjxGVOvHeY",
        "colab_type": "code",
        "outputId": "72f9db8b-b905-46c6-bc48-4c2bfd64ea26",
        "colab": {
          "base_uri": "https://localhost:8080/",
          "height": 54
        }
      },
      "source": [
        "!unzip chest-xray-pneumonia.zip"
      ],
      "execution_count": 18,
      "outputs": [
        {
          "output_type": "stream",
          "text": [
            "Archive:  chest-xray-pneumonia.zip\n",
            "  inflating: chest_xray.zip          \n"
          ],
          "name": "stdout"
        }
      ]
    },
    {
      "cell_type": "code",
      "metadata": {
        "id": "BQpaMN7cvTv2",
        "colab_type": "code",
        "colab": {}
      },
      "source": [
        "!unzip chest_xray.zip"
      ],
      "execution_count": 0,
      "outputs": []
    },
    {
      "cell_type": "code",
      "metadata": {
        "colab_type": "code",
        "id": "Fl9XXARuV_eg",
        "outputId": "b11d8c43-e895-4ad9-e700-f8284309f741",
        "colab": {
          "base_uri": "https://localhost:8080/",
          "height": 54
        }
      },
      "source": [
        "# Define our example directories and files\n",
        "base_dir = '/content/chest_xray'\n",
        "train_dir = os.path.join(base_dir, 'train')\n",
        "validation_dir = os.path.join(base_dir, 'val')\n",
        "\n",
        "# Directory with our training NORMAL pictures\n",
        "train_NORMAL_dir = os.path.join(train_dir, 'NORMAL')\n",
        "\n",
        "# Directory with our training PNEUMONIA pictures\n",
        "train_PNEUMONIA_dir = os.path.join(train_dir, 'PNEUMONIA')\n",
        "\n",
        "# Directory with our validation NORMAL pictures\n",
        "validation_NORMAL_dir = os.path.join(validation_dir, 'NORMAL')\n",
        "\n",
        "# Directory with our validation PNEUMONIA pictures\n",
        "validation_PNEUMONIA_dir = os.path.join(validation_dir, 'PNEUMONIA')\n",
        "\n",
        "train_NORMAL_fnames = os.listdir(train_NORMAL_dir)\n",
        "train_PNEUMONIA_fnames = os.listdir(train_PNEUMONIA_dir)\n",
        "\n",
        "# Add our data-augmentation parameters to ImageDataGenerator\n",
        "train_datagen = ImageDataGenerator(\n",
        "    rescale=1./255,\n",
        "    rotation_range=40,\n",
        "    width_shift_range=0.2,\n",
        "    height_shift_range=0.2,\n",
        "    shear_range=0.2,\n",
        "    zoom_range=0.2,\n",
        "    horizontal_flip=True)\n",
        "\n",
        "# Note that the validation data should not be augmented!\n",
        "test_datagen = ImageDataGenerator(rescale=1./255)\n",
        "\n",
        "train_generator = train_datagen.flow_from_directory(\n",
        "        train_dir, # This is the source directory for training images\n",
        "        target_size=(150, 150),  # All images will be resized to 150x150\n",
        "        batch_size=20,\n",
        "        # Since we use binary_crossentropy loss, we need binary labels\n",
        "        class_mode='binary')\n",
        "\n",
        "# Flow validation images in batches of 20 using test_datagen generator\n",
        "validation_generator = test_datagen.flow_from_directory(\n",
        "        validation_dir,\n",
        "        target_size=(150, 150),\n",
        "        batch_size=20,\n",
        "        class_mode='binary')"
      ],
      "execution_count": 32,
      "outputs": [
        {
          "output_type": "stream",
          "text": [
            "Found 5216 images belonging to 2 classes.\n",
            "Found 16 images belonging to 2 classes.\n"
          ],
          "name": "stdout"
        }
      ]
    },
    {
      "cell_type": "markdown",
      "metadata": {
        "id": "fZ2P1oCNu5_8",
        "colab_type": "text"
      },
      "source": [
        "Train model :\n",
        "\n",
        "\n"
      ]
    },
    {
      "cell_type": "code",
      "metadata": {
        "colab_type": "code",
        "id": "Blhq2MAUeyGA",
        "outputId": "ae37a044-5aa0-4ac8-e839-20a4debde744",
        "colab": {
          "base_uri": "https://localhost:8080/",
          "height": 1000
        }
      },
      "source": [
        "history = model.fit_generator(\n",
        "      train_generator,\n",
        "      steps_per_epoch=100,\n",
        "      epochs=50,\n",
        "      validation_data=validation_generator,\n",
        "      validation_steps=50,\n",
        "      verbose=2)"
      ],
      "execution_count": 33,
      "outputs": [
        {
          "output_type": "stream",
          "text": [
            "Epoch 1/50\n",
            "100/100 - 227s - loss: 0.6340 - acc: 0.6660 - val_loss: 0.7270 - val_acc: 0.4375\n",
            "Epoch 2/50\n",
            "100/100 - 219s - loss: 0.5666 - acc: 0.7480 - val_loss: 0.7369 - val_acc: 0.4375\n",
            "Epoch 3/50\n",
            "100/100 - 225s - loss: 0.5513 - acc: 0.7465 - val_loss: 0.7305 - val_acc: 0.4375\n",
            "Epoch 4/50\n",
            "100/100 - 219s - loss: 0.5460 - acc: 0.7520 - val_loss: 0.7272 - val_acc: 0.5000\n",
            "Epoch 5/50\n",
            "100/100 - 218s - loss: 0.5497 - acc: 0.7310 - val_loss: 0.7002 - val_acc: 0.4375\n",
            "Epoch 6/50\n",
            "100/100 - 217s - loss: 0.5301 - acc: 0.7495 - val_loss: 0.6926 - val_acc: 0.4375\n",
            "Epoch 7/50\n",
            "100/100 - 217s - loss: 0.5327 - acc: 0.7375 - val_loss: 0.6829 - val_acc: 0.4375\n",
            "Epoch 8/50\n",
            "100/100 - 217s - loss: 0.5203 - acc: 0.7380 - val_loss: 0.6728 - val_acc: 0.4375\n",
            "Epoch 9/50\n",
            "100/100 - 217s - loss: 0.5016 - acc: 0.7540 - val_loss: 0.6663 - val_acc: 0.5000\n",
            "Epoch 10/50\n",
            "100/100 - 220s - loss: 0.5039 - acc: 0.7510 - val_loss: 0.6583 - val_acc: 0.6250\n",
            "Epoch 11/50\n",
            "100/100 - 219s - loss: 0.5037 - acc: 0.7450 - val_loss: 0.6473 - val_acc: 0.6250\n",
            "Epoch 12/50\n",
            "100/100 - 218s - loss: 0.4970 - acc: 0.7460 - val_loss: 0.6402 - val_acc: 0.6250\n",
            "Epoch 13/50\n",
            "100/100 - 218s - loss: 0.4937 - acc: 0.7435 - val_loss: 0.6326 - val_acc: 0.6250\n",
            "Epoch 14/50\n",
            "100/100 - 220s - loss: 0.4705 - acc: 0.7650 - val_loss: 0.6328 - val_acc: 0.6250\n",
            "Epoch 15/50\n",
            "100/100 - 220s - loss: 0.4860 - acc: 0.7440 - val_loss: 0.6198 - val_acc: 0.6875\n",
            "Epoch 16/50\n",
            "100/100 - 220s - loss: 0.4816 - acc: 0.7430 - val_loss: 0.6083 - val_acc: 0.6875\n",
            "Epoch 17/50\n",
            "100/100 - 220s - loss: 0.4677 - acc: 0.7585 - val_loss: 0.6050 - val_acc: 0.7500\n",
            "Epoch 18/50\n",
            "100/100 - 219s - loss: 0.4641 - acc: 0.7620 - val_loss: 0.5971 - val_acc: 0.7500\n",
            "Epoch 19/50\n",
            "100/100 - 219s - loss: 0.4597 - acc: 0.7550 - val_loss: 0.5890 - val_acc: 0.7500\n",
            "Epoch 20/50\n",
            "100/100 - 218s - loss: 0.4477 - acc: 0.7705 - val_loss: 0.5858 - val_acc: 0.7500\n",
            "Epoch 21/50\n",
            "100/100 - 219s - loss: 0.4387 - acc: 0.7715 - val_loss: 0.5822 - val_acc: 0.7500\n",
            "Epoch 22/50\n",
            "100/100 - 218s - loss: 0.4358 - acc: 0.7675 - val_loss: 0.5749 - val_acc: 0.7500\n",
            "Epoch 23/50\n",
            "100/100 - 218s - loss: 0.4401 - acc: 0.7705 - val_loss: 0.5651 - val_acc: 0.8750\n",
            "Epoch 24/50\n",
            "100/100 - 218s - loss: 0.4286 - acc: 0.7850 - val_loss: 0.5618 - val_acc: 0.8750\n",
            "Epoch 25/50\n",
            "100/100 - 218s - loss: 0.4203 - acc: 0.7861 - val_loss: 0.5570 - val_acc: 0.8750\n",
            "Epoch 26/50\n",
            "100/100 - 219s - loss: 0.4283 - acc: 0.7800 - val_loss: 0.5482 - val_acc: 0.8125\n",
            "Epoch 27/50\n",
            "100/100 - 218s - loss: 0.4156 - acc: 0.8015 - val_loss: 0.5443 - val_acc: 0.8750\n",
            "Epoch 28/50\n",
            "100/100 - 217s - loss: 0.4216 - acc: 0.7980 - val_loss: 0.5403 - val_acc: 0.9375\n",
            "Epoch 29/50\n",
            "100/100 - 219s - loss: 0.4095 - acc: 0.7981 - val_loss: 0.5374 - val_acc: 0.9375\n",
            "Epoch 30/50\n",
            "100/100 - 218s - loss: 0.4019 - acc: 0.7985 - val_loss: 0.5329 - val_acc: 0.9375\n",
            "Epoch 31/50\n",
            "100/100 - 217s - loss: 0.4161 - acc: 0.7880 - val_loss: 0.5273 - val_acc: 0.8750\n",
            "Epoch 32/50\n",
            "100/100 - 218s - loss: 0.4066 - acc: 0.8091 - val_loss: 0.5226 - val_acc: 0.8750\n",
            "Epoch 33/50\n",
            "100/100 - 218s - loss: 0.3955 - acc: 0.8206 - val_loss: 0.5190 - val_acc: 0.9375\n",
            "Epoch 34/50\n",
            "100/100 - 218s - loss: 0.3912 - acc: 0.8125 - val_loss: 0.5155 - val_acc: 0.9375\n",
            "Epoch 35/50\n",
            "100/100 - 217s - loss: 0.3894 - acc: 0.8180 - val_loss: 0.5102 - val_acc: 0.9375\n",
            "Epoch 36/50\n",
            "100/100 - 219s - loss: 0.3929 - acc: 0.8150 - val_loss: 0.5059 - val_acc: 0.8750\n",
            "Epoch 37/50\n",
            "100/100 - 221s - loss: 0.3731 - acc: 0.8377 - val_loss: 0.5025 - val_acc: 0.9375\n",
            "Epoch 38/50\n",
            "100/100 - 220s - loss: 0.3901 - acc: 0.8150 - val_loss: 0.4991 - val_acc: 0.9375\n",
            "Epoch 39/50\n",
            "100/100 - 220s - loss: 0.3825 - acc: 0.8210 - val_loss: 0.4961 - val_acc: 0.9375\n",
            "Epoch 40/50\n",
            "100/100 - 219s - loss: 0.3618 - acc: 0.8419 - val_loss: 0.4909 - val_acc: 0.9375\n",
            "Epoch 41/50\n",
            "100/100 - 220s - loss: 0.3549 - acc: 0.8450 - val_loss: 0.4886 - val_acc: 0.9375\n",
            "Epoch 42/50\n",
            "100/100 - 227s - loss: 0.3844 - acc: 0.8200 - val_loss: 0.4849 - val_acc: 0.8750\n",
            "Epoch 43/50\n",
            "100/100 - 229s - loss: 0.3656 - acc: 0.8452 - val_loss: 0.4805 - val_acc: 0.9375\n",
            "Epoch 44/50\n",
            "100/100 - 221s - loss: 0.3643 - acc: 0.8325 - val_loss: 0.4780 - val_acc: 0.9375\n",
            "Epoch 45/50\n",
            "100/100 - 218s - loss: 0.3580 - acc: 0.8450 - val_loss: 0.4737 - val_acc: 0.9375\n",
            "Epoch 46/50\n",
            "100/100 - 219s - loss: 0.3584 - acc: 0.8435 - val_loss: 0.4709 - val_acc: 0.9375\n",
            "Epoch 47/50\n",
            "100/100 - 218s - loss: 0.3558 - acc: 0.8512 - val_loss: 0.4678 - val_acc: 0.9375\n",
            "Epoch 48/50\n",
            "100/100 - 218s - loss: 0.3441 - acc: 0.8472 - val_loss: 0.4651 - val_acc: 0.9375\n",
            "Epoch 49/50\n",
            "100/100 - 219s - loss: 0.3510 - acc: 0.8465 - val_loss: 0.4632 - val_acc: 0.9375\n",
            "Epoch 50/50\n",
            "100/100 - 223s - loss: 0.3461 - acc: 0.8620 - val_loss: 0.4584 - val_acc: 0.9375\n"
          ],
          "name": "stdout"
        }
      ]
    },
    {
      "cell_type": "markdown",
      "metadata": {
        "id": "G4cthScmFNQw",
        "colab_type": "text"
      },
      "source": [
        ""
      ]
    },
    {
      "cell_type": "code",
      "metadata": {
        "id": "h2_HCAH9Vs6u",
        "colab_type": "code",
        "colab": {}
      },
      "source": [
        ""
      ],
      "execution_count": 0,
      "outputs": []
    },
    {
      "cell_type": "code",
      "metadata": {
        "colab_type": "code",
        "id": "1FtxcKjJfxL9",
        "outputId": "0699fab2-c62c-43a5-a1c3-73b27e1b5075",
        "colab": {
          "base_uri": "https://localhost:8080/",
          "height": 563
        }
      },
      "source": [
        "%matplotlib inline\n",
        "\n",
        "import matplotlib.pyplot as plt\n",
        "import matplotlib.image as mpimg\n",
        "\n",
        "# Retrieve a list of accuracy results on training and test data\n",
        "# sets for each training epoch\n",
        "acc = history.history['acc']\n",
        "val_acc = history.history['val_acc']\n",
        "\n",
        "# Retrieve a list of list results on training and test data\n",
        "# sets for each training epoch\n",
        "loss = history.history['loss']\n",
        "val_loss = history.history['val_loss']\n",
        "\n",
        "# Get number of epochs\n",
        "epochs = range(len(acc))\n",
        "\n",
        "# Plot training and validation accuracy per epoch\n",
        "plt.plot(epochs, acc)\n",
        "plt.plot(epochs, val_acc)\n",
        "plt.title('Training and validation accuracy')\n",
        "\n",
        "plt.figure()\n",
        "\n",
        "# Plot training and validation loss per epoch\n",
        "plt.plot(epochs, loss)\n",
        "plt.plot(epochs, val_loss)\n",
        "plt.title('Training and validation loss')"
      ],
      "execution_count": 34,
      "outputs": [
        {
          "output_type": "execute_result",
          "data": {
            "text/plain": [
              "Text(0.5, 1.0, 'Training and validation loss')"
            ]
          },
          "metadata": {
            "tags": []
          },
          "execution_count": 34
        },
        {
          "output_type": "display_data",
          "data": {
            "image/png": "[encoded data removed]",
            "text/plain": [
              "<Figure size 432x288 with 1 Axes>"
            ]
          },
          "metadata": {
            "tags": []
          }
        },
        {
          "output_type": "display_data",
          "data": {
            "image/png": "[encoded data removed]",
            "text/plain": [
              "<Figure size 432x288 with 1 Axes>"
            ]
          },
          "metadata": {
            "tags": []
          }
        }
      ]
    }
  ]
}